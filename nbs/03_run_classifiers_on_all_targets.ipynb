{
 "cells": [
  {
   "cell_type": "markdown",
   "metadata": {},
   "source": [
    "# Classifiers for all targets\n",
    "Let's train classifiers for all target for different molecular represenatations and compare results. The next step will involve the optimization of hyperparameters for each classifier. `mlflow` will be used for experiment management.<br>\n",
    "\n",
    "To launch the mlflow server run:\n",
    "```bash\n",
    "cd mlflow\n",
    "mlflow ui --backend-store-uri sqlite:///mlflow.db\n",
    "```"
   ]
  },
  {
   "cell_type": "code",
   "execution_count": 1,
   "metadata": {},
   "outputs": [],
   "source": [
    "# suppress warnings\n",
    "import warnings\n",
    "warnings.filterwarnings(\"ignore\")\n",
    "\n",
    "import polars as pl\n",
    "from pathlib import Path\n",
    "import random\n",
    "import pickle\n",
    "from sklearn.ensemble import RandomForestClassifier\n",
    "from tqdm.notebook import tqdm\n",
    "import seaborn as sns\n",
    "import pandas as pd\n",
    "\n",
    "# add parent directory to path\n",
    "import os\n",
    "import sys\n",
    "sys.path.append(os.path.dirname(os.getcwd()))\n",
    "\n",
    "from metrics import ClassificationMetrics\n",
    "from tools import expand_array_column, train_classifier"
   ]
  },
  {
   "cell_type": "code",
   "execution_count": 2,
   "metadata": {},
   "outputs": [
    {
     "name": "stderr",
     "output_type": "stream",
     "text": [
      "2024/06/15 19:48:09 INFO mlflow.store.db.utils: Creating initial MLflow database tables...\n",
      "2024/06/15 19:48:09 INFO mlflow.store.db.utils: Updating database tables\n",
      "INFO  [alembic.runtime.migration] Context impl SQLiteImpl.\n",
      "INFO  [alembic.runtime.migration] Will assume non-transactional DDL.\n",
      "INFO  [alembic.runtime.migration] Running upgrade  -> 451aebb31d03, add metric step\n",
      "INFO  [alembic.runtime.migration] Running upgrade 451aebb31d03 -> 90e64c465722, migrate user column to tags\n",
      "INFO  [alembic.runtime.migration] Running upgrade 90e64c465722 -> 181f10493468, allow nulls for metric values\n",
      "INFO  [alembic.runtime.migration] Running upgrade 181f10493468 -> df50e92ffc5e, Add Experiment Tags Table\n",
      "INFO  [alembic.runtime.migration] Running upgrade df50e92ffc5e -> 7ac759974ad8, Update run tags with larger limit\n",
      "INFO  [alembic.runtime.migration] Running upgrade 7ac759974ad8 -> 89d4b8295536, create latest metrics table\n",
      "INFO  [89d4b8295536_create_latest_metrics_table_py] Migration complete!\n",
      "INFO  [alembic.runtime.migration] Running upgrade 89d4b8295536 -> 2b4d017a5e9b, add model registry tables to db\n",
      "INFO  [2b4d017a5e9b_add_model_registry_tables_to_db_py] Adding registered_models and model_versions tables to database.\n",
      "INFO  [2b4d017a5e9b_add_model_registry_tables_to_db_py] Migration complete!\n",
      "INFO  [alembic.runtime.migration] Running upgrade 2b4d017a5e9b -> cfd24bdc0731, Update run status constraint with killed\n",
      "INFO  [alembic.runtime.migration] Running upgrade cfd24bdc0731 -> 0a8213491aaa, drop_duplicate_killed_constraint\n",
      "INFO  [alembic.runtime.migration] Running upgrade 0a8213491aaa -> 728d730b5ebd, add registered model tags table\n",
      "INFO  [alembic.runtime.migration] Running upgrade 728d730b5ebd -> 27a6a02d2cf1, add model version tags table\n",
      "INFO  [alembic.runtime.migration] Running upgrade 27a6a02d2cf1 -> 84291f40a231, add run_link to model_version\n",
      "INFO  [alembic.runtime.migration] Running upgrade 84291f40a231 -> a8c4a736bde6, allow nulls for run_id\n",
      "INFO  [alembic.runtime.migration] Running upgrade a8c4a736bde6 -> 39d1c3be5f05, add_is_nan_constraint_for_metrics_tables_if_necessary\n",
      "INFO  [alembic.runtime.migration] Running upgrade 39d1c3be5f05 -> c48cb773bb87, reset_default_value_for_is_nan_in_metrics_table_for_mysql\n",
      "INFO  [alembic.runtime.migration] Running upgrade c48cb773bb87 -> bd07f7e963c5, create index on run_uuid\n",
      "INFO  [alembic.runtime.migration] Running upgrade bd07f7e963c5 -> 0c779009ac13, add deleted_time field to runs table\n",
      "INFO  [alembic.runtime.migration] Running upgrade 0c779009ac13 -> cc1f77228345, change param value length to 500\n",
      "INFO  [alembic.runtime.migration] Running upgrade cc1f77228345 -> 97727af70f4d, Add creation_time and last_update_time to experiments table\n",
      "INFO  [alembic.runtime.migration] Running upgrade 97727af70f4d -> 3500859a5d39, Add Model Aliases table\n",
      "INFO  [alembic.runtime.migration] Running upgrade 3500859a5d39 -> 7f2a7d5fae7d, add datasets inputs input_tags tables\n",
      "INFO  [alembic.runtime.migration] Running upgrade 7f2a7d5fae7d -> 2d6e25af4d3e, increase max param val length from 500 to 8000\n",
      "INFO  [alembic.runtime.migration] Running upgrade 2d6e25af4d3e -> acf3f17fdcc7, add storage location field to model versions\n",
      "INFO  [alembic.runtime.migration] Running upgrade acf3f17fdcc7 -> 867495a8f9d4, add trace tables\n",
      "INFO  [alembic.runtime.migration] Running upgrade 867495a8f9d4 -> 5b0e9adcef9c, add cascade deletion to trace tables foreign keys\n",
      "INFO  [alembic.runtime.migration] Context impl SQLiteImpl.\n",
      "INFO  [alembic.runtime.migration] Will assume non-transactional DDL.\n",
      "2024/06/15 19:48:09 INFO mlflow.tracking.fluent: Experiment with name 'mol-reprs-benchmark' does not exist. Creating a new experiment.\n"
     ]
    },
    {
     "data": {
      "text/plain": [
       "<Experiment: artifact_location='/home/anton/Projects/PythonProjects/mol-reprs-benchmark/nbs/mlruns/1', creation_time=1718473689634, experiment_id='1', last_update_time=1718473689634, lifecycle_stage='active', name='mol-reprs-benchmark', tags={}>"
      ]
     },
     "execution_count": 2,
     "metadata": {},
     "output_type": "execute_result"
    }
   ],
   "source": [
    "import mlflow\n",
    "mlflow.set_tracking_uri(\"sqlite:///../mlflow/mlflow.db\")\n",
    "mlflow.set_experiment(\"mol-reprs-benchmark\")"
   ]
  },
  {
   "cell_type": "code",
   "execution_count": 3,
   "metadata": {},
   "outputs": [],
   "source": [
    "path_parquet = Path(\"../data/2023_09_12_papyrus1k_dataset_more_params_STD_MFP_lessColumns.parquet\")\n",
    "assert path_parquet.exists()"
   ]
  },
  {
   "cell_type": "markdown",
   "metadata": {},
   "source": [
    "Define paths to precomputed fingerprints:"
   ]
  },
  {
   "cell_type": "code",
   "execution_count": 4,
   "metadata": {},
   "outputs": [],
   "source": [
    "path_fps = Path(\"../out/fingerprints_dicts\")\n",
    "assert path_fps.exists()\n",
    "\n",
    "paths_fingerprints = list(path_fps.glob(\"*.pkl\"))\n",
    "def fps_name(fps_path): return fps_path.name.split(\".\")[0][2:]\n",
    "fps_names = [fps_name(x) for x in paths_fingerprints]"
   ]
  },
  {
   "cell_type": "markdown",
   "metadata": {},
   "source": [
    "Load data and train classifier:"
   ]
  },
  {
   "cell_type": "code",
   "execution_count": 5,
   "metadata": {},
   "outputs": [],
   "source": [
    "df = pl.read_parquet(path_parquet)"
   ]
  },
  {
   "cell_type": "code",
   "execution_count": 6,
   "metadata": {},
   "outputs": [
    {
     "data": {
      "application/vnd.jupyter.widget-view+json": {
       "model_id": "fd698a4fcedb4616871d929e122ce4a5",
       "version_major": 2,
       "version_minor": 0
      },
      "text/plain": [
       "0it [00:00, ?it/s]"
      ]
     },
     "metadata": {},
     "output_type": "display_data"
    },
    {
     "data": {
      "application/vnd.jupyter.widget-view+json": {
       "model_id": "72955a369277436fad7a7f3021cb2351",
       "version_major": 2,
       "version_minor": 0
      },
      "text/plain": [
       "  0%|          | 0/280 [00:00<?, ?it/s]"
      ]
     },
     "metadata": {},
     "output_type": "display_data"
    },
    {
     "data": {
      "application/vnd.jupyter.widget-view+json": {
       "model_id": "3e25b3a3bea3498d88f7a25942449950",
       "version_major": 2,
       "version_minor": 0
      },
      "text/plain": [
       "  0%|          | 0/280 [00:00<?, ?it/s]"
      ]
     },
     "metadata": {},
     "output_type": "display_data"
    },
    {
     "data": {
      "application/vnd.jupyter.widget-view+json": {
       "model_id": "32080bfd1bc5480eb22947f5d228e3a5",
       "version_major": 2,
       "version_minor": 0
      },
      "text/plain": [
       "  0%|          | 0/280 [00:00<?, ?it/s]"
      ]
     },
     "metadata": {},
     "output_type": "display_data"
    },
    {
     "data": {
      "application/vnd.jupyter.widget-view+json": {
       "model_id": "4469aaf2e6c2441789c6c6de2fafa5fb",
       "version_major": 2,
       "version_minor": 0
      },
      "text/plain": [
       "  0%|          | 0/280 [00:00<?, ?it/s]"
      ]
     },
     "metadata": {},
     "output_type": "display_data"
    }
   ],
   "source": [
    "for path_fingerprint, fps_name in tqdm(zip(paths_fingerprints, fps_names)):\n",
    "    # load fingerpriint to test and correspoinding name\n",
    "    with open(path_fingerprint, \"rb\") as f:\n",
    "        d_fps = pickle.load(f)\n",
    "\n",
    "    for target_id in tqdm(df[\"target_id\"].unique().to_list()):\n",
    "\n",
    "        with mlflow.start_run():\n",
    "\n",
    "            mlflow.set_tag(\"model_type\", \"random_forest\")\n",
    "            mlflow.set_tag(\"dataset\", \"Papyrus1K\")\n",
    "            mlflow.set_tag(\"fingerprint\", fps_name)\n",
    "\n",
    "            mlflow.log_param(\"target_id\", target_id)\n",
    "\n",
    "            df_target = df.filter(pl.col(\"target_id\") == target_id)\n",
    "            df_target = df_target.drop([\"target_id\", \"STD_SELFIES\"])\n",
    "\n",
    "            df_target = df_target.with_columns(\n",
    "                fp = pl.col(\"STD_SMILES\").map_elements(lambda x: d_fps[x])\n",
    "            )\n",
    "            \n",
    "            # number of features\n",
    "            k = list(d_fps.keys())[0]\n",
    "            n_features = len(d_fps[k])\n",
    "            df_target = expand_array_column(df_target, \"fp\", n_features)\n",
    "\n",
    "            # Define the model with hyperparameters\n",
    "            n_estimators = 1000\n",
    "            random_state = 42\n",
    "            model = RandomForestClassifier(n_estimators=n_estimators, random_state=random_state)\n",
    "\n",
    "            mlflow.log_param(\"n_estimators\", n_estimators)\n",
    "            mlflow.log_param(\"random_state\", random_state)\n",
    "\n",
    "            metrics = train_classifier(model, df_target, target_id)\n",
    "            mlflow.log_metric(\"mcc_train\", metrics.mcc_train)\n",
    "            mlflow.log_metric(\"mcc_val\", metrics.mcc_val)\n",
    "            mlflow.log_metric(\"mcc_test\", metrics.mcc_test)"
   ]
  },
  {
   "cell_type": "markdown",
   "metadata": {},
   "source": [
    "Extract metrics from `mlflow` and visualize them. This allows not create additional data structure to store metrics."
   ]
  },
  {
   "cell_type": "code",
   "execution_count": 7,
   "metadata": {},
   "outputs": [],
   "source": [
    "# all_runs = mlflow.search_runs(search_all_experiments=True)\n",
    "all_runs = mlflow.search_runs(experiment_ids=[1], order_by=[\"metrics.mcc_test DESC\"])"
   ]
  },
  {
   "cell_type": "code",
   "execution_count": 8,
   "metadata": {},
   "outputs": [
    {
     "data": {
      "text/plain": [
       "Index(['run_id', 'experiment_id', 'status', 'artifact_uri', 'start_time',\n",
       "       'end_time', 'metrics.mcc_train', 'metrics.mcc_test', 'metrics.mcc_val',\n",
       "       'params.target_id', 'params.n_estimators', 'params.random_state',\n",
       "       'tags.mlflow.source.name', 'tags.dataset', 'tags.mlflow.source.type',\n",
       "       'tags.fingerprint', 'tags.mlflow.user', 'tags.mlflow.runName',\n",
       "       'tags.model_type'],\n",
       "      dtype='object')"
      ]
     },
     "execution_count": 8,
     "metadata": {},
     "output_type": "execute_result"
    }
   ],
   "source": [
    "all_runs.columns"
   ]
  },
  {
   "cell_type": "code",
   "execution_count": 9,
   "metadata": {},
   "outputs": [
    {
     "data": {
      "text/html": [
       "<div>\n",
       "<style scoped>\n",
       "    .dataframe tbody tr th:only-of-type {\n",
       "        vertical-align: middle;\n",
       "    }\n",
       "\n",
       "    .dataframe tbody tr th {\n",
       "        vertical-align: top;\n",
       "    }\n",
       "\n",
       "    .dataframe thead th {\n",
       "        text-align: right;\n",
       "    }\n",
       "</style>\n",
       "<table border=\"1\" class=\"dataframe\">\n",
       "  <thead>\n",
       "    <tr style=\"text-align: right;\">\n",
       "      <th></th>\n",
       "      <th>run_id</th>\n",
       "      <th>experiment_id</th>\n",
       "      <th>status</th>\n",
       "      <th>artifact_uri</th>\n",
       "      <th>start_time</th>\n",
       "      <th>end_time</th>\n",
       "      <th>metrics.mcc_train</th>\n",
       "      <th>metrics.mcc_test</th>\n",
       "      <th>metrics.mcc_val</th>\n",
       "      <th>params.target_id</th>\n",
       "      <th>params.n_estimators</th>\n",
       "      <th>params.random_state</th>\n",
       "      <th>tags.mlflow.source.name</th>\n",
       "      <th>tags.dataset</th>\n",
       "      <th>tags.mlflow.source.type</th>\n",
       "      <th>tags.fingerprint</th>\n",
       "      <th>tags.mlflow.user</th>\n",
       "      <th>tags.mlflow.runName</th>\n",
       "      <th>tags.model_type</th>\n",
       "    </tr>\n",
       "  </thead>\n",
       "  <tbody>\n",
       "    <tr>\n",
       "      <th>0</th>\n",
       "      <td>fbafd02a42d349eeb0665dac9685c3b8</td>\n",
       "      <td>1</td>\n",
       "      <td>FINISHED</td>\n",
       "      <td>/home/anton/Projects/PythonProjects/mol-reprs-...</td>\n",
       "      <td>2024-06-15 19:11:18.822000+00:00</td>\n",
       "      <td>2024-06-15 19:11:19.784000+00:00</td>\n",
       "      <td>0.947404</td>\n",
       "      <td>1.000000</td>\n",
       "      <td>1.000000</td>\n",
       "      <td>P34976_WT</td>\n",
       "      <td>1000</td>\n",
       "      <td>42</td>\n",
       "      <td>/home/anton/.pyenv/versions/mambaforge/envs/be...</td>\n",
       "      <td>Papyrus1K</td>\n",
       "      <td>LOCAL</td>\n",
       "      <td>maccs</td>\n",
       "      <td>anton</td>\n",
       "      <td>painted-bat-390</td>\n",
       "      <td>random_forest</td>\n",
       "    </tr>\n",
       "    <tr>\n",
       "      <th>1</th>\n",
       "      <td>404f83998ea64e4a993143d4211e7743</td>\n",
       "      <td>1</td>\n",
       "      <td>FINISHED</td>\n",
       "      <td>/home/anton/Projects/PythonProjects/mol-reprs-...</td>\n",
       "      <td>2024-06-15 18:13:05.139000+00:00</td>\n",
       "      <td>2024-06-15 18:13:07.796000+00:00</td>\n",
       "      <td>0.965402</td>\n",
       "      <td>1.000000</td>\n",
       "      <td>1.000000</td>\n",
       "      <td>P34976_WT</td>\n",
       "      <td>1000</td>\n",
       "      <td>42</td>\n",
       "      <td>/home/anton/.pyenv/versions/mambaforge/envs/be...</td>\n",
       "      <td>Papyrus1K</td>\n",
       "      <td>LOCAL</td>\n",
       "      <td>topological_torsion</td>\n",
       "      <td>anton</td>\n",
       "      <td>dapper-hawk-540</td>\n",
       "      <td>random_forest</td>\n",
       "    </tr>\n",
       "    <tr>\n",
       "      <th>2</th>\n",
       "      <td>df6984fd5c584f7bb684df86376192e0</td>\n",
       "      <td>1</td>\n",
       "      <td>FINISHED</td>\n",
       "      <td>/home/anton/Projects/PythonProjects/mol-reprs-...</td>\n",
       "      <td>2024-06-15 19:31:08.445000+00:00</td>\n",
       "      <td>2024-06-15 19:31:12.955000+00:00</td>\n",
       "      <td>1.000000</td>\n",
       "      <td>0.941523</td>\n",
       "      <td>0.858315</td>\n",
       "      <td>P55055_WT</td>\n",
       "      <td>1000</td>\n",
       "      <td>42</td>\n",
       "      <td>/home/anton/.pyenv/versions/mambaforge/envs/be...</td>\n",
       "      <td>Papyrus1K</td>\n",
       "      <td>LOCAL</td>\n",
       "      <td>morgan</td>\n",
       "      <td>anton</td>\n",
       "      <td>unleashed-pig-996</td>\n",
       "      <td>random_forest</td>\n",
       "    </tr>\n",
       "    <tr>\n",
       "      <th>3</th>\n",
       "      <td>6cdad6ed41164db095ce704b261ce34a</td>\n",
       "      <td>1</td>\n",
       "      <td>FINISHED</td>\n",
       "      <td>/home/anton/Projects/PythonProjects/mol-reprs-...</td>\n",
       "      <td>2024-06-15 21:34:20.906000+00:00</td>\n",
       "      <td>2024-06-15 21:34:24.680000+00:00</td>\n",
       "      <td>1.000000</td>\n",
       "      <td>0.918706</td>\n",
       "      <td>0.813973</td>\n",
       "      <td>P80457_WT</td>\n",
       "      <td>1000</td>\n",
       "      <td>42</td>\n",
       "      <td>/home/anton/.pyenv/versions/mambaforge/envs/be...</td>\n",
       "      <td>Papyrus1K</td>\n",
       "      <td>LOCAL</td>\n",
       "      <td>atom_pairs</td>\n",
       "      <td>anton</td>\n",
       "      <td>puzzled-wasp-507</td>\n",
       "      <td>random_forest</td>\n",
       "    </tr>\n",
       "    <tr>\n",
       "      <th>4</th>\n",
       "      <td>8e5b18f7494e4f2db78c0799df2ed03f</td>\n",
       "      <td>1</td>\n",
       "      <td>FINISHED</td>\n",
       "      <td>/home/anton/Projects/PythonProjects/mol-reprs-...</td>\n",
       "      <td>2024-06-15 19:20:27.070000+00:00</td>\n",
       "      <td>2024-06-15 19:20:29.934000+00:00</td>\n",
       "      <td>0.997380</td>\n",
       "      <td>0.918401</td>\n",
       "      <td>0.860753</td>\n",
       "      <td>P80457_WT</td>\n",
       "      <td>1000</td>\n",
       "      <td>42</td>\n",
       "      <td>/home/anton/.pyenv/versions/mambaforge/envs/be...</td>\n",
       "      <td>Papyrus1K</td>\n",
       "      <td>LOCAL</td>\n",
       "      <td>morgan</td>\n",
       "      <td>anton</td>\n",
       "      <td>shivering-mouse-422</td>\n",
       "      <td>random_forest</td>\n",
       "    </tr>\n",
       "  </tbody>\n",
       "</table>\n",
       "</div>"
      ],
      "text/plain": [
       "                             run_id experiment_id    status  \\\n",
       "0  fbafd02a42d349eeb0665dac9685c3b8             1  FINISHED   \n",
       "1  404f83998ea64e4a993143d4211e7743             1  FINISHED   \n",
       "2  df6984fd5c584f7bb684df86376192e0             1  FINISHED   \n",
       "3  6cdad6ed41164db095ce704b261ce34a             1  FINISHED   \n",
       "4  8e5b18f7494e4f2db78c0799df2ed03f             1  FINISHED   \n",
       "\n",
       "                                        artifact_uri  \\\n",
       "0  /home/anton/Projects/PythonProjects/mol-reprs-...   \n",
       "1  /home/anton/Projects/PythonProjects/mol-reprs-...   \n",
       "2  /home/anton/Projects/PythonProjects/mol-reprs-...   \n",
       "3  /home/anton/Projects/PythonProjects/mol-reprs-...   \n",
       "4  /home/anton/Projects/PythonProjects/mol-reprs-...   \n",
       "\n",
       "                        start_time                         end_time  \\\n",
       "0 2024-06-15 19:11:18.822000+00:00 2024-06-15 19:11:19.784000+00:00   \n",
       "1 2024-06-15 18:13:05.139000+00:00 2024-06-15 18:13:07.796000+00:00   \n",
       "2 2024-06-15 19:31:08.445000+00:00 2024-06-15 19:31:12.955000+00:00   \n",
       "3 2024-06-15 21:34:20.906000+00:00 2024-06-15 21:34:24.680000+00:00   \n",
       "4 2024-06-15 19:20:27.070000+00:00 2024-06-15 19:20:29.934000+00:00   \n",
       "\n",
       "   metrics.mcc_train  metrics.mcc_test  metrics.mcc_val params.target_id  \\\n",
       "0           0.947404          1.000000         1.000000        P34976_WT   \n",
       "1           0.965402          1.000000         1.000000        P34976_WT   \n",
       "2           1.000000          0.941523         0.858315        P55055_WT   \n",
       "3           1.000000          0.918706         0.813973        P80457_WT   \n",
       "4           0.997380          0.918401         0.860753        P80457_WT   \n",
       "\n",
       "  params.n_estimators params.random_state  \\\n",
       "0                1000                  42   \n",
       "1                1000                  42   \n",
       "2                1000                  42   \n",
       "3                1000                  42   \n",
       "4                1000                  42   \n",
       "\n",
       "                             tags.mlflow.source.name tags.dataset  \\\n",
       "0  /home/anton/.pyenv/versions/mambaforge/envs/be...    Papyrus1K   \n",
       "1  /home/anton/.pyenv/versions/mambaforge/envs/be...    Papyrus1K   \n",
       "2  /home/anton/.pyenv/versions/mambaforge/envs/be...    Papyrus1K   \n",
       "3  /home/anton/.pyenv/versions/mambaforge/envs/be...    Papyrus1K   \n",
       "4  /home/anton/.pyenv/versions/mambaforge/envs/be...    Papyrus1K   \n",
       "\n",
       "  tags.mlflow.source.type     tags.fingerprint tags.mlflow.user  \\\n",
       "0                   LOCAL                maccs            anton   \n",
       "1                   LOCAL  topological_torsion            anton   \n",
       "2                   LOCAL               morgan            anton   \n",
       "3                   LOCAL           atom_pairs            anton   \n",
       "4                   LOCAL               morgan            anton   \n",
       "\n",
       "   tags.mlflow.runName tags.model_type  \n",
       "0      painted-bat-390   random_forest  \n",
       "1      dapper-hawk-540   random_forest  \n",
       "2    unleashed-pig-996   random_forest  \n",
       "3     puzzled-wasp-507   random_forest  \n",
       "4  shivering-mouse-422   random_forest  "
      ]
     },
     "execution_count": 9,
     "metadata": {},
     "output_type": "execute_result"
    }
   ],
   "source": [
    "all_runs.head()"
   ]
  },
  {
   "cell_type": "code",
   "execution_count": 10,
   "metadata": {},
   "outputs": [
    {
     "data": {
      "text/html": [
       "<div>\n",
       "<style scoped>\n",
       "    .dataframe tbody tr th:only-of-type {\n",
       "        vertical-align: middle;\n",
       "    }\n",
       "\n",
       "    .dataframe tbody tr th {\n",
       "        vertical-align: top;\n",
       "    }\n",
       "\n",
       "    .dataframe thead th {\n",
       "        text-align: right;\n",
       "    }\n",
       "</style>\n",
       "<table border=\"1\" class=\"dataframe\">\n",
       "  <thead>\n",
       "    <tr style=\"text-align: right;\">\n",
       "      <th></th>\n",
       "      <th>target_id</th>\n",
       "      <th>mcc_test</th>\n",
       "      <th>mcc_train</th>\n",
       "      <th>mcc_val</th>\n",
       "      <th>fps_name</th>\n",
       "    </tr>\n",
       "  </thead>\n",
       "  <tbody>\n",
       "    <tr>\n",
       "      <th>0</th>\n",
       "      <td>P34976_WT</td>\n",
       "      <td>1.000000</td>\n",
       "      <td>0.947404</td>\n",
       "      <td>1.000000</td>\n",
       "      <td>maccs</td>\n",
       "    </tr>\n",
       "    <tr>\n",
       "      <th>1</th>\n",
       "      <td>P34976_WT</td>\n",
       "      <td>1.000000</td>\n",
       "      <td>0.965402</td>\n",
       "      <td>1.000000</td>\n",
       "      <td>topological_torsion</td>\n",
       "    </tr>\n",
       "    <tr>\n",
       "      <th>2</th>\n",
       "      <td>P55055_WT</td>\n",
       "      <td>0.941523</td>\n",
       "      <td>1.000000</td>\n",
       "      <td>0.858315</td>\n",
       "      <td>morgan</td>\n",
       "    </tr>\n",
       "    <tr>\n",
       "      <th>3</th>\n",
       "      <td>P80457_WT</td>\n",
       "      <td>0.918706</td>\n",
       "      <td>1.000000</td>\n",
       "      <td>0.813973</td>\n",
       "      <td>atom_pairs</td>\n",
       "    </tr>\n",
       "    <tr>\n",
       "      <th>4</th>\n",
       "      <td>P80457_WT</td>\n",
       "      <td>0.918401</td>\n",
       "      <td>0.997380</td>\n",
       "      <td>0.860753</td>\n",
       "      <td>morgan</td>\n",
       "    </tr>\n",
       "    <tr>\n",
       "      <th>...</th>\n",
       "      <td>...</td>\n",
       "      <td>...</td>\n",
       "      <td>...</td>\n",
       "      <td>...</td>\n",
       "      <td>...</td>\n",
       "    </tr>\n",
       "    <tr>\n",
       "      <th>1115</th>\n",
       "      <td>Q99572_WT</td>\n",
       "      <td>-0.033942</td>\n",
       "      <td>0.996021</td>\n",
       "      <td>0.503367</td>\n",
       "      <td>morgan</td>\n",
       "    </tr>\n",
       "    <tr>\n",
       "      <th>1116</th>\n",
       "      <td>Q99572_WT</td>\n",
       "      <td>-0.048290</td>\n",
       "      <td>1.000000</td>\n",
       "      <td>0.560053</td>\n",
       "      <td>atom_pairs</td>\n",
       "    </tr>\n",
       "    <tr>\n",
       "      <th>1117</th>\n",
       "      <td>Q92847_WT</td>\n",
       "      <td>-0.048447</td>\n",
       "      <td>0.994496</td>\n",
       "      <td>0.509430</td>\n",
       "      <td>atom_pairs</td>\n",
       "    </tr>\n",
       "    <tr>\n",
       "      <th>1118</th>\n",
       "      <td>Q92847_WT</td>\n",
       "      <td>-0.048447</td>\n",
       "      <td>0.811466</td>\n",
       "      <td>0.279918</td>\n",
       "      <td>topological_torsion</td>\n",
       "    </tr>\n",
       "    <tr>\n",
       "      <th>1119</th>\n",
       "      <td>P48729_WT</td>\n",
       "      <td>-0.075378</td>\n",
       "      <td>1.000000</td>\n",
       "      <td>0.562164</td>\n",
       "      <td>atom_pairs</td>\n",
       "    </tr>\n",
       "  </tbody>\n",
       "</table>\n",
       "<p>1120 rows × 5 columns</p>\n",
       "</div>"
      ],
      "text/plain": [
       "      target_id  mcc_test  mcc_train   mcc_val             fps_name\n",
       "0     P34976_WT  1.000000   0.947404  1.000000                maccs\n",
       "1     P34976_WT  1.000000   0.965402  1.000000  topological_torsion\n",
       "2     P55055_WT  0.941523   1.000000  0.858315               morgan\n",
       "3     P80457_WT  0.918706   1.000000  0.813973           atom_pairs\n",
       "4     P80457_WT  0.918401   0.997380  0.860753               morgan\n",
       "...         ...       ...        ...       ...                  ...\n",
       "1115  Q99572_WT -0.033942   0.996021  0.503367               morgan\n",
       "1116  Q99572_WT -0.048290   1.000000  0.560053           atom_pairs\n",
       "1117  Q92847_WT -0.048447   0.994496  0.509430           atom_pairs\n",
       "1118  Q92847_WT -0.048447   0.811466  0.279918  topological_torsion\n",
       "1119  P48729_WT -0.075378   1.000000  0.562164           atom_pairs\n",
       "\n",
       "[1120 rows x 5 columns]"
      ]
     },
     "execution_count": 10,
     "metadata": {},
     "output_type": "execute_result"
    }
   ],
   "source": [
    "# generate df_metrics from all_runs dataframe\n",
    "df_metrics = all_runs[[\"params.target_id\", \"metrics.mcc_test\", \"metrics.mcc_train\", \"metrics.mcc_val\", \"tags.fingerprint\"]].copy()\n",
    "df_metrics = df_metrics.rename(columns={\"params.target_id\": \"target_id\", \"metrics.mcc_test\": \"mcc_test\",\n",
    "                                        \"metrics.mcc_train\": \"mcc_train\", \"metrics.mcc_val\": \"mcc_val\", \"tags.fingerprint\": \"fps_name\"})\n",
    "df_metrics"
   ]
  },
  {
   "cell_type": "markdown",
   "metadata": {},
   "source": [
    "Final comparison of performance of different fingerprints:"
   ]
  },
  {
   "cell_type": "code",
   "execution_count": 11,
   "metadata": {},
   "outputs": [
    {
     "data": {
      "image/png": "[encoded data removed]",
      "text/plain": [
       "<Figure size 640x480 with 1 Axes>"
      ]
     },
     "metadata": {},
     "output_type": "display_data"
    }
   ],
   "source": [
    "sns.boxplot(x=\"fps_name\", y=\"mcc_test\", data=df_metrics);"
   ]
  },
  {
   "cell_type": "code",
   "execution_count": null,
   "metadata": {},
   "outputs": [],
   "source": []
  }
 ],
 "metadata": {
  "kernelspec": {
   "display_name": "benchmark",
   "language": "python",
   "name": "python3"
  },
  "language_info": {
   "codemirror_mode": {
    "name": "ipython",
    "version": 3
   },
   "file_extension": ".py",
   "mimetype": "text/x-python",
   "name": "python",
   "nbconvert_exporter": "python",
   "pygments_lexer": "ipython3",
   "version": "3.11.9"
  }
 },
 "nbformat": 4,
 "nbformat_minor": 2
}

{
 "cells": [
  {
   "cell_type": "markdown",
   "metadata": {},
   "source": [
    "# Classifiers for all targets\n",
    "Let's train classifiers for all target for different molecular represenatations and compare results. The next step will involve the optimization of hyperparameters for each classifier. `mlflow` will be used for experiment management."
   ]
  },
  {
   "cell_type": "code",
   "execution_count": 1,
   "metadata": {},
   "outputs": [],
   "source": [
    "# suppress warnings\n",
    "import warnings\n",
    "warnings.filterwarnings(\"ignore\")\n",
    "\n",
    "import polars as pl\n",
    "from pathlib import Path\n",
    "import random\n",
    "import pickle\n",
    "from sklearn.ensemble import RandomForestClassifier\n",
    "from sklearn.metrics import accuracy_score\n",
    "from sklearn.metrics import confusion_matrix\n",
    "\n",
    "# add parent directory to path\n",
    "import os\n",
    "import sys\n",
    "sys.path.append(os.path.dirname(os.getcwd()))\n",
    "\n",
    "from metrics import ClassificationMetrics\n",
    "from tools import expand_array_column"
   ]
  },
  {
   "cell_type": "code",
   "execution_count": 2,
   "metadata": {},
   "outputs": [],
   "source": [
    "path_parquet = Path(\"../data/2023_09_12_papyrus1k_dataset_more_params_STD_MFP_lessColumns.parquet\")\n",
    "assert path_parquet.exists()"
   ]
  },
  {
   "cell_type": "markdown",
   "metadata": {},
   "source": [
    "Load precomputed Morgan fingerprints:"
   ]
  },
  {
   "cell_type": "code",
   "execution_count": 3,
   "metadata": {},
   "outputs": [],
   "source": [
    "path_fps = Path(\"../out/fingerprints_dicts/d_morgan.pkl\")\n",
    "assert path_fps.exists()\n",
    "\n",
    "with open(path_fps, \"rb\") as f:\n",
    "    d_morgan = pickle.load(f)"
   ]
  },
  {
   "cell_type": "markdown",
   "metadata": {},
   "source": [
    "Load data and train classifier:"
   ]
  },
  {
   "cell_type": "code",
   "execution_count": 4,
   "metadata": {},
   "outputs": [],
   "source": [
    "df = pl.read_parquet(path_parquet)"
   ]
  },
  {
   "cell_type": "code",
   "execution_count": 5,
   "metadata": {},
   "outputs": [
    {
     "name": "stdout",
     "output_type": "stream",
     "text": [
      "Target: P41144_WT\n",
      "Train MCC: 0.9936787625762681,\n",
      "Val MCC: 0.5450571046392932,\n",
      "Test MCC: 0.528680532637681.\n",
      "\n"
     ]
    }
   ],
   "source": [
    "# # select randomly 5 targets\n",
    "# random.seed(42)\n",
    "# random_targets = random.sample(df[\"target_id\"].unique().to_list(), 5)\n",
    "# target_id = random_targets[0]\n",
    "\n",
    "target_id = \"P41144_WT\"\n",
    "\n",
    "df_target = df.filter(pl.col(\"target_id\") == target_id)\n",
    "df_target = df_target.drop([\"target_id\", \"STD_SELFIES\"])\n",
    "\n",
    "df_target = df_target.with_columns(\n",
    "    morgan_fp = pl.col(\"STD_SMILES\").map_elements(lambda x: d_morgan[x])\n",
    ")\n",
    "\n",
    "df_target = expand_array_column(df_target, \"morgan_fp\", 2048)\n",
    "\n",
    "# Define the model\n",
    "model = RandomForestClassifier(n_estimators=100, random_state=42)\n",
    "\n",
    "\n",
    "def train_classifier(model, df_target, target_id):\n",
    "    \"\"\"\n",
    "    Parameters\n",
    "    ----------\n",
    "    model: Callable\n",
    "        Model to be used for predictions.\n",
    "    df_target: pl.DataFrame\n",
    "        Polars dataframe with features `f_<id>`, train/validation/test\n",
    "        split in `split` in `split` column, and labels `class_label`\n",
    "        and features `f_<id>, id in `range(1, 2049)`.\n",
    "    target_id: str\n",
    "        Target id to be used for metrics calculations.\n",
    "    \"\"\"\n",
    "    assert hasattr(model, \"fit\")\n",
    "    assert \"split\" in df_target.columns\n",
    "\n",
    "    df_train = df_target.filter(pl.col(\"split\") == \"train\")\n",
    "    # df_val = df_target.filter(pl.col(\"split\") == \"validation\")\n",
    "    # df_test = df_target.filter(pl.col(\"split\") == \"test\")\n",
    "\n",
    "    feature_cols = [f\"f_{i+1:04d}\" for i in range(2048)]\n",
    "    target_col = \"class_label\"\n",
    "\n",
    "    X_train, y_train = df_train[feature_cols], df_train[target_col]\n",
    "    \n",
    "    # Train the model\n",
    "    model.fit(X_train, y_train)\n",
    "    \n",
    "    metrics = ClassificationMetrics(model, df_target, target_id)\n",
    "    return metrics\n",
    "\n",
    "metrics = train_classifier(model, df_target, target_id)\n",
    "print(metrics)"
   ]
  },
  {
   "cell_type": "markdown",
   "metadata": {},
   "source": [
    "Target: P41144_WT<br>\n",
    "Train MCC: 0.9936787625762681,<br>\n",
    "Val MCC: 0.5450571046392932,<br>\n",
    "Test MCC: 0.528680532637681."
   ]
  },
  {
   "cell_type": "code",
   "execution_count": null,
   "metadata": {},
   "outputs": [],
   "source": []
  }
 ],
 "metadata": {
  "kernelspec": {
   "display_name": "benchmark",
   "language": "python",
   "name": "python3"
  },
  "language_info": {
   "codemirror_mode": {
    "name": "ipython",
    "version": 3
   },
   "file_extension": ".py",
   "mimetype": "text/x-python",
   "name": "python",
   "nbconvert_exporter": "python",
   "pygments_lexer": "ipython3",
   "version": "3.11.9"
  }
 },
 "nbformat": 4,
 "nbformat_minor": 2
}

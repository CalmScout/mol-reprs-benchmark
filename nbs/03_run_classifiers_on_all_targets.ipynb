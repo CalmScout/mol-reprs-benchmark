{
 "cells": [
  {
   "cell_type": "markdown",
   "metadata": {},
   "source": [
    "# Classifiers for all targets\n",
    "Let's train classifiers for all target for different molecular represenatations and compare results. The next step will involve the optimization of hyperparameters for each classifier. `mlflow` will be used for experiment management."
   ]
  },
  {
   "cell_type": "code",
   "execution_count": 17,
   "metadata": {},
   "outputs": [],
   "source": [
    "# suppress warnings\n",
    "import warnings\n",
    "warnings.filterwarnings(\"ignore\")\n",
    "\n",
    "import polars as pl\n",
    "from pathlib import Path\n",
    "import random\n",
    "import pickle\n",
    "from sklearn.ensemble import RandomForestClassifier\n",
    "from tqdm.notebook import tqdm\n",
    "import seaborn as sns\n",
    "import pandas as pd\n",
    "\n",
    "# add parent directory to path\n",
    "import os\n",
    "import sys\n",
    "sys.path.append(os.path.dirname(os.getcwd()))\n",
    "\n",
    "from metrics import ClassificationMetrics\n",
    "from tools import expand_array_column, train_classifier"
   ]
  },
  {
   "cell_type": "code",
   "execution_count": 2,
   "metadata": {},
   "outputs": [],
   "source": [
    "path_parquet = Path(\"../data/2023_09_12_papyrus1k_dataset_more_params_STD_MFP_lessColumns.parquet\")\n",
    "assert path_parquet.exists()"
   ]
  },
  {
   "cell_type": "markdown",
   "metadata": {},
   "source": [
    "Load precomputed Morgan fingerprints:"
   ]
  },
  {
   "cell_type": "code",
   "execution_count": 3,
   "metadata": {},
   "outputs": [],
   "source": [
    "path_fps = Path(\"../out/fingerprints_dicts/d_morgan.pkl\")\n",
    "assert path_fps.exists()\n",
    "\n",
    "with open(path_fps, \"rb\") as f:\n",
    "    d_morgan = pickle.load(f)"
   ]
  },
  {
   "cell_type": "markdown",
   "metadata": {},
   "source": [
    "Load data and train classifier:"
   ]
  },
  {
   "cell_type": "code",
   "execution_count": 4,
   "metadata": {},
   "outputs": [],
   "source": [
    "df = pl.read_parquet(path_parquet)"
   ]
  },
  {
   "cell_type": "code",
   "execution_count": 5,
   "metadata": {},
   "outputs": [
    {
     "data": {
      "application/vnd.jupyter.widget-view+json": {
       "model_id": "4cf3564e02f149b399c0ed9347a36182",
       "version_major": 2,
       "version_minor": 0
      },
      "text/plain": [
       "  0%|          | 0/6 [00:00<?, ?it/s]"
      ]
     },
     "metadata": {},
     "output_type": "display_data"
    }
   ],
   "source": [
    "# select randomly 5 targets\n",
    "random_targets = ['P35916_WT', 'O94806_WT', 'P48729_WT', 'P80457_WT', 'Q16665_WT', 'P53667_WT']\n",
    "\n",
    "metrics_lst = []\n",
    "\n",
    "for target_id in tqdm(random_targets):\n",
    "# for target_id in tqdm(df[\"target_id\"].unique().to_list()):\n",
    "\n",
    "    df_target = df.filter(pl.col(\"target_id\") == target_id)\n",
    "    df_target = df_target.drop([\"target_id\", \"STD_SELFIES\"])\n",
    "\n",
    "    df_target = df_target.with_columns(\n",
    "        morgan_fp = pl.col(\"STD_SMILES\").map_elements(lambda x: d_morgan[x])\n",
    "    )\n",
    "\n",
    "    df_target = expand_array_column(df_target, \"morgan_fp\", 2048)\n",
    "\n",
    "    # Define the model\n",
    "    model = RandomForestClassifier(n_estimators=1000, random_state=42)\n",
    "\n",
    "    metrics = train_classifier(model, df_target, target_id)\n",
    "\n",
    "    metrics_lst.append(metrics)"
   ]
  },
  {
   "cell_type": "code",
   "execution_count": 6,
   "metadata": {},
   "outputs": [
    {
     "data": {
      "text/plain": [
       "[Target: P35916_WT, train MCC: 1.0000, val MCC: 0.6606, test MCC: 0.6522.,\n",
       " Target: O94806_WT, train MCC: 1.0000, val MCC: 0.5962, test MCC: 0.3959.,\n",
       " Target: P48729_WT, train MCC: 1.0000, val MCC: 0.5531, test MCC: 0.1659.,\n",
       " Target: P80457_WT, train MCC: 0.9974, val MCC: 0.8608, test MCC: 0.9184.,\n",
       " Target: Q16665_WT, train MCC: 1.0000, val MCC: 0.3816, test MCC: 0.4183.,\n",
       " Target: P53667_WT, train MCC: 1.0000, val MCC: 0.6482, test MCC: 0.5121.]"
      ]
     },
     "execution_count": 6,
     "metadata": {},
     "output_type": "execute_result"
    }
   ],
   "source": [
    "metrics_lst"
   ]
  },
  {
   "cell_type": "markdown",
   "metadata": {},
   "source": [
    "Visualize `mcc_val` score distribution:"
   ]
  },
  {
   "cell_type": "code",
   "execution_count": 22,
   "metadata": {},
   "outputs": [],
   "source": [
    "metrics_dicts = []\n",
    "\n",
    "for metrics in metrics_lst:\n",
    "    metrics_dict = {\n",
    "        \"target_id\": metrics.target_id,\n",
    "        \"mcc_train\": metrics.mcc_train,\n",
    "        \"mcc_val\": metrics.mcc_val,\n",
    "        \"mcc_test\": metrics.mcc_test\n",
    "    }\n",
    "    metrics_dicts.append(metrics_dict)"
   ]
  },
  {
   "cell_type": "code",
   "execution_count": 23,
   "metadata": {},
   "outputs": [
    {
     "data": {
      "text/html": [
       "<div><style>\n",
       ".dataframe > thead > tr,\n",
       ".dataframe > tbody > tr {\n",
       "  text-align: right;\n",
       "  white-space: pre-wrap;\n",
       "}\n",
       "</style>\n",
       "<small>shape: (6, 4)</small><table border=\"1\" class=\"dataframe\"><thead><tr><th>target_id</th><th>mcc_train</th><th>mcc_val</th><th>mcc_test</th></tr><tr><td>str</td><td>f64</td><td>f64</td><td>f64</td></tr></thead><tbody><tr><td>&quot;P35916_WT&quot;</td><td>1.0</td><td>0.660634</td><td>0.652213</td></tr><tr><td>&quot;O94806_WT&quot;</td><td>1.0</td><td>0.596186</td><td>0.395912</td></tr><tr><td>&quot;P48729_WT&quot;</td><td>1.0</td><td>0.553134</td><td>0.165859</td></tr><tr><td>&quot;P80457_WT&quot;</td><td>0.99738</td><td>0.860753</td><td>0.918401</td></tr><tr><td>&quot;Q16665_WT&quot;</td><td>1.0</td><td>0.381555</td><td>0.41833</td></tr><tr><td>&quot;P53667_WT&quot;</td><td>1.0</td><td>0.648181</td><td>0.512095</td></tr></tbody></table></div>"
      ],
      "text/plain": [
       "shape: (6, 4)\n",
       "┌───────────┬───────────┬──────────┬──────────┐\n",
       "│ target_id ┆ mcc_train ┆ mcc_val  ┆ mcc_test │\n",
       "│ ---       ┆ ---       ┆ ---      ┆ ---      │\n",
       "│ str       ┆ f64       ┆ f64      ┆ f64      │\n",
       "╞═══════════╪═══════════╪══════════╪══════════╡\n",
       "│ P35916_WT ┆ 1.0       ┆ 0.660634 ┆ 0.652213 │\n",
       "│ O94806_WT ┆ 1.0       ┆ 0.596186 ┆ 0.395912 │\n",
       "│ P48729_WT ┆ 1.0       ┆ 0.553134 ┆ 0.165859 │\n",
       "│ P80457_WT ┆ 0.99738   ┆ 0.860753 ┆ 0.918401 │\n",
       "│ Q16665_WT ┆ 1.0       ┆ 0.381555 ┆ 0.41833  │\n",
       "│ P53667_WT ┆ 1.0       ┆ 0.648181 ┆ 0.512095 │\n",
       "└───────────┴───────────┴──────────┴──────────┘"
      ]
     },
     "execution_count": 23,
     "metadata": {},
     "output_type": "execute_result"
    }
   ],
   "source": [
    "df_metrics = pl.DataFrame(metrics_dicts)\n",
    "\n",
    "df_metrics"
   ]
  },
  {
   "cell_type": "code",
   "execution_count": 24,
   "metadata": {},
   "outputs": [],
   "source": [
    "# convert to pandas\n",
    "df_metrics = df_metrics.to_pandas()"
   ]
  },
  {
   "cell_type": "code",
   "execution_count": 26,
   "metadata": {},
   "outputs": [
    {
     "data": {
      "image/png": "[encoded data removed]",
      "text/plain": [
       "<Figure size 640x480 with 1 Axes>"
      ]
     },
     "metadata": {},
     "output_type": "display_data"
    }
   ],
   "source": [
    "# violin plot\n",
    "sns.boxplot(data=df_metrics, y=\"mcc_test\");"
   ]
  },
  {
   "cell_type": "code",
   "execution_count": null,
   "metadata": {},
   "outputs": [],
   "source": []
  }
 ],
 "metadata": {
  "kernelspec": {
   "display_name": "benchmark",
   "language": "python",
   "name": "python3"
  },
  "language_info": {
   "codemirror_mode": {
    "name": "ipython",
    "version": 3
   },
   "file_extension": ".py",
   "mimetype": "text/x-python",
   "name": "python",
   "nbconvert_exporter": "python",
   "pygments_lexer": "ipython3",
   "version": "3.11.9"
  }
 },
 "nbformat": 4,
 "nbformat_minor": 2
}

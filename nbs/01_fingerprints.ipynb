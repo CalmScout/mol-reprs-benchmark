{
 "cells": [
  {
   "cell_type": "markdown",
   "metadata": {},
   "source": [
    "# Classical fingerprints generation and benchmarking\n",
    "Morgan Fingerprints, Topological Torsion, MACCS, Atom Pairs.\n",
    "\n",
    "## 1. Checking fingerprints calculation"
   ]
  },
  {
   "cell_type": "code",
   "execution_count": 1,
   "metadata": {},
   "outputs": [],
   "source": [
    "# add parent folder to path\n",
    "import sys\n",
    "sys.path.insert(0, '..')\n",
    "\n",
    "%load_ext autoreload\n",
    "%autoreload 2"
   ]
  },
  {
   "cell_type": "code",
   "execution_count": 2,
   "metadata": {},
   "outputs": [],
   "source": [
    "# suppress warnings\n",
    "import warnings\n",
    "warnings.filterwarnings('ignore')\n",
    "\n",
    "# suppress RDKit warnings\n",
    "from rdkit import RDLogger\n",
    "RDLogger.DisableLog('rdApp.*')"
   ]
  },
  {
   "cell_type": "code",
   "execution_count": 3,
   "metadata": {},
   "outputs": [],
   "source": [
    "from fingerprints import *"
   ]
  },
  {
   "cell_type": "code",
   "execution_count": 4,
   "metadata": {},
   "outputs": [
    {
     "name": "stdout",
     "output_type": "stream",
     "text": [
      "[0 0 0 ... 0 0 0]\n"
     ]
    }
   ],
   "source": [
    "smi = 'Cc1ccccc1'\n",
    "\n",
    "morgan = morgan_fp(smi)\n",
    "print(morgan)"
   ]
  },
  {
   "cell_type": "code",
   "execution_count": 5,
   "metadata": {},
   "outputs": [],
   "source": [
    "top_torsion = topological_torsion_fp(smi)"
   ]
  },
  {
   "cell_type": "code",
   "execution_count": 6,
   "metadata": {},
   "outputs": [
    {
     "name": "stdout",
     "output_type": "stream",
     "text": [
      "[0 0 0 ... 0 0 0]\n"
     ]
    }
   ],
   "source": [
    "print(top_torsion)"
   ]
  },
  {
   "cell_type": "code",
   "execution_count": 7,
   "metadata": {},
   "outputs": [
    {
     "data": {
      "text/plain": [
       "(2048, 2048)"
      ]
     },
     "execution_count": 7,
     "metadata": {},
     "output_type": "execute_result"
    }
   ],
   "source": [
    "len(morgan), len(top_torsion)"
   ]
  },
  {
   "cell_type": "code",
   "execution_count": 8,
   "metadata": {},
   "outputs": [],
   "source": [
    "pair = pair_fp(smi)"
   ]
  },
  {
   "cell_type": "code",
   "execution_count": 9,
   "metadata": {},
   "outputs": [
    {
     "data": {
      "text/plain": [
       "(2048,)"
      ]
     },
     "execution_count": 9,
     "metadata": {},
     "output_type": "execute_result"
    }
   ],
   "source": [
    "pair.shape"
   ]
  },
  {
   "cell_type": "code",
   "execution_count": 10,
   "metadata": {},
   "outputs": [],
   "source": [
    "maccs = macc_fp(smi)"
   ]
  },
  {
   "cell_type": "code",
   "execution_count": 11,
   "metadata": {},
   "outputs": [
    {
     "data": {
      "text/plain": [
       "array([0, 0, 0, 0, 0, 0, 0, 0, 0, 0, 0, 0, 0, 0, 0, 0, 0, 0, 0, 0, 0, 0,\n",
       "       0, 0, 0, 0, 0, 0, 0, 0, 0, 0, 0, 0, 0, 0, 0, 0, 0, 0, 0, 0, 0, 0,\n",
       "       0, 0, 0, 0, 0, 0, 0, 0, 0, 0, 0, 0, 0, 0, 0, 0, 0, 0, 0, 0, 0, 0,\n",
       "       0, 0, 0, 0, 0, 0, 0, 0, 0, 0, 0, 0, 0, 0, 0, 0, 0, 0, 0, 0, 0, 0,\n",
       "       0, 0, 0, 0, 0, 0, 0, 0, 0, 0, 0, 0, 0, 0, 0, 0, 0, 0, 0, 0, 0, 0,\n",
       "       0, 0, 1, 0, 0, 0, 0, 0, 0, 0, 0, 0, 0, 0, 0, 0, 0, 0, 0, 0, 0, 0,\n",
       "       0, 0, 0, 0, 0, 0, 0, 0, 0, 0, 0, 0, 1, 0, 0, 0, 0, 0, 1, 0, 0, 0,\n",
       "       0, 0, 0, 0, 0, 0, 1, 0, 1, 1, 0, 1, 0])"
      ]
     },
     "execution_count": 11,
     "metadata": {},
     "output_type": "execute_result"
    }
   ],
   "source": [
    "maccs"
   ]
  },
  {
   "cell_type": "code",
   "execution_count": 12,
   "metadata": {},
   "outputs": [
    {
     "data": {
      "text/plain": [
       "167"
      ]
     },
     "execution_count": 12,
     "metadata": {},
     "output_type": "execute_result"
    }
   ],
   "source": [
    "len(maccs)"
   ]
  },
  {
   "cell_type": "markdown",
   "metadata": {},
   "source": [
    "## 2. Calculate fingerprints from the file"
   ]
  },
  {
   "cell_type": "code",
   "execution_count": 21,
   "metadata": {},
   "outputs": [],
   "source": [
    "import pandas as pd\n",
    "from pathlib import Path\n",
    "import seaborn as sns\n",
    "from tqdm.notebook import tqdm\n",
    "import pickle\n",
    "import matplotlib.pyplot as plt\n",
    "import os"
   ]
  },
  {
   "cell_type": "code",
   "execution_count": 14,
   "metadata": {},
   "outputs": [],
   "source": [
    "path_papyrus = Path(\"../data/2023_09_12_papyrus1k_dataset_more_params_STD_MFP_lessColumns.parquet\")\n",
    "assert path_papyrus.exists()"
   ]
  },
  {
   "cell_type": "code",
   "execution_count": 15,
   "metadata": {},
   "outputs": [
    {
     "data": {
      "text/html": [
       "<div>\n",
       "<style scoped>\n",
       "    .dataframe tbody tr th:only-of-type {\n",
       "        vertical-align: middle;\n",
       "    }\n",
       "\n",
       "    .dataframe tbody tr th {\n",
       "        vertical-align: top;\n",
       "    }\n",
       "\n",
       "    .dataframe thead th {\n",
       "        text-align: right;\n",
       "    }\n",
       "</style>\n",
       "<table border=\"1\" class=\"dataframe\">\n",
       "  <thead>\n",
       "    <tr style=\"text-align: right;\">\n",
       "      <th></th>\n",
       "      <th>target_id</th>\n",
       "      <th>class_label</th>\n",
       "      <th>STD_SMILES</th>\n",
       "      <th>STD_SELFIES</th>\n",
       "      <th>split</th>\n",
       "    </tr>\n",
       "  </thead>\n",
       "  <tbody>\n",
       "    <tr>\n",
       "      <th>0</th>\n",
       "      <td>B2RXH2_WT</td>\n",
       "      <td>0</td>\n",
       "      <td>Oc1ccccc1C=NNC(=S)NC1CC2C=CC1C2</td>\n",
       "      <td>[O][C][=C][C][=C][C][=C][Ring1][=Branch1][C][=...</td>\n",
       "      <td>train</td>\n",
       "    </tr>\n",
       "    <tr>\n",
       "      <th>1</th>\n",
       "      <td>P00352_WT</td>\n",
       "      <td>0</td>\n",
       "      <td>Oc1ccccc1C=NNC(=S)NC1CC2C=CC1C2</td>\n",
       "      <td>[O][C][=C][C][=C][C][=C][Ring1][=Branch1][C][=...</td>\n",
       "      <td>train</td>\n",
       "    </tr>\n",
       "    <tr>\n",
       "      <th>2</th>\n",
       "      <td>P43220_WT</td>\n",
       "      <td>0</td>\n",
       "      <td>Oc1ccccc1C=NNC(=S)NC1CC2C=CC1C2</td>\n",
       "      <td>[O][C][=C][C][=C][C][=C][Ring1][=Branch1][C][=...</td>\n",
       "      <td>train</td>\n",
       "    </tr>\n",
       "    <tr>\n",
       "      <th>3</th>\n",
       "      <td>P51450_WT</td>\n",
       "      <td>0</td>\n",
       "      <td>Oc1ccccc1C=NNC(=S)NC1CC2C=CC1C2</td>\n",
       "      <td>[O][C][=C][C][=C][C][=C][Ring1][=Branch1][C][=...</td>\n",
       "      <td>train</td>\n",
       "    </tr>\n",
       "    <tr>\n",
       "      <th>4</th>\n",
       "      <td>Q03164_WT</td>\n",
       "      <td>0</td>\n",
       "      <td>Oc1ccccc1C=NNC(=S)NC1CC2C=CC1C2</td>\n",
       "      <td>[O][C][=C][C][=C][C][=C][Ring1][=Branch1][C][=...</td>\n",
       "      <td>train</td>\n",
       "    </tr>\n",
       "  </tbody>\n",
       "</table>\n",
       "</div>"
      ],
      "text/plain": [
       "   target_id  class_label                       STD_SMILES  \\\n",
       "0  B2RXH2_WT            0  Oc1ccccc1C=NNC(=S)NC1CC2C=CC1C2   \n",
       "1  P00352_WT            0  Oc1ccccc1C=NNC(=S)NC1CC2C=CC1C2   \n",
       "2  P43220_WT            0  Oc1ccccc1C=NNC(=S)NC1CC2C=CC1C2   \n",
       "3  P51450_WT            0  Oc1ccccc1C=NNC(=S)NC1CC2C=CC1C2   \n",
       "4  Q03164_WT            0  Oc1ccccc1C=NNC(=S)NC1CC2C=CC1C2   \n",
       "\n",
       "                                         STD_SELFIES  split  \n",
       "0  [O][C][=C][C][=C][C][=C][Ring1][=Branch1][C][=...  train  \n",
       "1  [O][C][=C][C][=C][C][=C][Ring1][=Branch1][C][=...  train  \n",
       "2  [O][C][=C][C][=C][C][=C][Ring1][=Branch1][C][=...  train  \n",
       "3  [O][C][=C][C][=C][C][=C][Ring1][=Branch1][C][=...  train  \n",
       "4  [O][C][=C][C][=C][C][=C][Ring1][=Branch1][C][=...  train  "
      ]
     },
     "execution_count": 15,
     "metadata": {},
     "output_type": "execute_result"
    }
   ],
   "source": [
    "df = pd.read_parquet(path_papyrus)\n",
    "df.head()"
   ]
  },
  {
   "cell_type": "code",
   "execution_count": 16,
   "metadata": {},
   "outputs": [
    {
     "data": {
      "text/plain": [
       "(881081, 5)"
      ]
     },
     "execution_count": 16,
     "metadata": {},
     "output_type": "execute_result"
    }
   ],
   "source": [
    "df.shape"
   ]
  },
  {
   "cell_type": "markdown",
   "metadata": {},
   "source": [
    "Can we calculate fingerprints for the entry from `STD_SMILES`?"
   ]
  },
  {
   "cell_type": "code",
   "execution_count": 17,
   "metadata": {},
   "outputs": [
    {
     "name": "stdout",
     "output_type": "stream",
     "text": [
      "Oc1ccccc1C=NNC(=S)NC1CC2C=CC1C2\n",
      "[0 0 0 ... 0 0 0]\n"
     ]
    }
   ],
   "source": [
    "smi = df.STD_SMILES[0]\n",
    "print(smi)\n",
    "morgan = morgan_fp(smi)\n",
    "print(morgan)"
   ]
  },
  {
   "cell_type": "code",
   "execution_count": 18,
   "metadata": {},
   "outputs": [
    {
     "data": {
      "text/plain": [
       "(489402,)"
      ]
     },
     "execution_count": 18,
     "metadata": {},
     "output_type": "execute_result"
    }
   ],
   "source": [
    "df.STD_SMILES.unique().shape"
   ]
  },
  {
   "cell_type": "code",
   "execution_count": 19,
   "metadata": {},
   "outputs": [
    {
     "data": {
      "application/vnd.jupyter.widget-view+json": {
       "model_id": "3d19fbe971fc47c48cedfd2c193e838d",
       "version_major": 2,
       "version_minor": 0
      },
      "text/plain": [
       "  0%|          | 0/489402 [00:00<?, ?it/s]"
      ]
     },
     "metadata": {},
     "output_type": "display_data"
    }
   ],
   "source": [
    "d_morgan = {}\n",
    "\n",
    "for smi in tqdm(df.STD_SMILES.unique()):\n",
    "    d_morgan[smi] = morgan_fp(smi)"
   ]
  },
  {
   "cell_type": "code",
   "execution_count": 22,
   "metadata": {},
   "outputs": [],
   "source": [
    "# create folfer for pickles\n",
    "os.makedirs(\"../out/fingerprints_dicts\", exist_ok=True)"
   ]
  },
  {
   "cell_type": "code",
   "execution_count": 23,
   "metadata": {},
   "outputs": [],
   "source": [
    "pickle.dump(d_morgan, open(\"../out/fingerprints_dicts/d_morgan.pkl\", \"wb\"))"
   ]
  },
  {
   "cell_type": "code",
   "execution_count": 26,
   "metadata": {},
   "outputs": [],
   "source": [
    "del d_morgan"
   ]
  },
  {
   "cell_type": "code",
   "execution_count": 27,
   "metadata": {},
   "outputs": [
    {
     "data": {
      "application/vnd.jupyter.widget-view+json": {
       "model_id": "98bf1646f2aa4e0881dadc9d23f04158",
       "version_major": 2,
       "version_minor": 0
      },
      "text/plain": [
       "  0%|          | 0/489402 [00:00<?, ?it/s]"
      ]
     },
     "metadata": {},
     "output_type": "display_data"
    }
   ],
   "source": [
    "d_topological_torsion = {}\n",
    "for smi in tqdm(df.STD_SMILES.unique()):\n",
    "    d_topological_torsion[smi] = topological_torsion_fp(smi)\n",
    "pickle.dump(d_topological_torsion, open(\"../out/fingerprints_dicts/d_topological_torsion.pkl\", \"wb\"))\n",
    "del d_topological_torsion"
   ]
  },
  {
   "cell_type": "code",
   "execution_count": 28,
   "metadata": {},
   "outputs": [
    {
     "data": {
      "application/vnd.jupyter.widget-view+json": {
       "model_id": "3cb73bd554e544e3aba1ec7e4b9c141f",
       "version_major": 2,
       "version_minor": 0
      },
      "text/plain": [
       "  0%|          | 0/489402 [00:00<?, ?it/s]"
      ]
     },
     "metadata": {},
     "output_type": "display_data"
    }
   ],
   "source": [
    "d_pair = {}\n",
    "for smi in tqdm(df.STD_SMILES.unique()):\n",
    "    d_pair[smi] = pair_fp(smi)\n",
    "pickle.dump(d_pair, open(\"../out/fingerprints_dicts/d_pair.pkl\", \"wb\"))\n",
    "del d_pair"
   ]
  },
  {
   "cell_type": "code",
   "execution_count": 29,
   "metadata": {},
   "outputs": [
    {
     "data": {
      "application/vnd.jupyter.widget-view+json": {
       "model_id": "b9ddb0367cb945d0b5c33e5141dd7add",
       "version_major": 2,
       "version_minor": 0
      },
      "text/plain": [
       "  0%|          | 0/489402 [00:00<?, ?it/s]"
      ]
     },
     "metadata": {},
     "output_type": "display_data"
    }
   ],
   "source": [
    "d_maccs = {}\n",
    "for smi in tqdm(df.STD_SMILES.unique()):\n",
    "    d_maccs[smi] = macc_fp(smi)\n",
    "pickle.dump(d_maccs, open(\"../out/fingerprints_dicts/d_maccs.pkl\", \"wb\"))\n",
    "del d_maccs"
   ]
  },
  {
   "cell_type": "code",
   "execution_count": null,
   "metadata": {},
   "outputs": [],
   "source": []
  }
 ],
 "metadata": {
  "kernelspec": {
   "display_name": "benchmark",
   "language": "python",
   "name": "python3"
  },
  "language_info": {
   "codemirror_mode": {
    "name": "ipython",
    "version": 3
   },
   "file_extension": ".py",
   "mimetype": "text/x-python",
   "name": "python",
   "nbconvert_exporter": "python",
   "pygments_lexer": "ipython3",
   "version": "3.11.9"
  }
 },
 "nbformat": 4,
 "nbformat_minor": 2
}
